{
 "cells": [
  {
   "cell_type": "code",
   "execution_count": null,
   "id": "5086c05f",
   "metadata": {},
   "outputs": [],
   "source": [
    "import speech_recognition as sr\n",
    "import pyttsx3"
   ]
  },
  {
   "cell_type": "code",
   "execution_count": null,
   "id": "cbab3a67",
   "metadata": {},
   "outputs": [],
   "source": [
    "recognizer = sr.Recognizer()\n",
    "engine = pyttsx3.init()"
   ]
  },
  {
   "cell_type": "code",
   "execution_count": null,
   "id": "1da46de8",
   "metadata": {},
   "outputs": [],
   "source": [
    "def speak(text):\n",
    "    engine.say(text)\n",
    "    engine.runAndWait()"
   ]
  },
  {
   "cell_type": "code",
   "execution_count": null,
   "id": "024ae12b",
   "metadata": {},
   "outputs": [],
   "source": [
    "def listen():\n",
    "    with sr.Microphone() as source:\n",
    "        print(\"Listening...\")\n",
    "        recognizer.adjust_for_ambient_noise(source)  # Adjust for ambient noise\n",
    "        audio = recognizer.listen(source)\n",
    "\n",
    "    try:\n",
    "        print(\"Recognizing...\")\n",
    "        command = recognizer.recognize_google(audio)\n",
    "        print(f\"User said: {command}\")\n",
    "        return command.lower()\n",
    "    except sr.UnknownValueError:\n",
    "        print(\"Sorry, I didn't get that.\")\n",
    "        return \"\"\n",
    "    except sr.RequestError as e:\n",
    "        print(f\"Could not request results; {e}\")\n",
    "        return \"\""
   ]
  },
  {
   "cell_type": "code",
   "execution_count": null,
   "id": "0d2c3bc9",
   "metadata": {},
   "outputs": [],
   "source": [
    "def execute_command(command):\n",
    "    if \"hello\" in command:\n",
    "        speak(\"Hello! How can I assist you?\")\n",
    "    elif \"how are you\" in command:\n",
    "        speak(\"I'm doing well, thank you!\")\n",
    "    elif \"goodbye\" in command or \"bye\" in command:\n",
    "        speak(\"Goodbye! Take care.\")\n",
    "        exit()\n",
    "    else:\n",
    "        speak(\"Sorry, I didn't understand that command.\")"
   ]
  },
  {
   "cell_type": "code",
   "execution_count": null,
   "id": "a67b38ee",
   "metadata": {},
   "outputs": [],
   "source": [
    "def main():\n",
    "    speak(\"Hello! I'm your voice assistant.\")\n",
    "    while True:\n",
    "        command = listen()\n",
    "        if command:\n",
    "            execute_command(command)"
   ]
  },
  {
   "cell_type": "code",
   "execution_count": null,
   "id": "68c8c1d6",
   "metadata": {},
   "outputs": [],
   "source": [
    "if __name__ == \"__main__\":\n",
    "    main()"
   ]
  },
  {
   "cell_type": "code",
   "execution_count": null,
   "id": "cffd82ed",
   "metadata": {},
   "outputs": [],
   "source": []
  }
 ],
 "metadata": {
  "kernelspec": {
   "display_name": "Python 3 (ipykernel)",
   "language": "python",
   "name": "python3"
  },
  "language_info": {
   "codemirror_mode": {
    "name": "ipython",
    "version": 3
   },
   "file_extension": ".py",
   "mimetype": "text/x-python",
   "name": "python",
   "nbconvert_exporter": "python",
   "pygments_lexer": "ipython3",
   "version": "3.11.5"
  }
 },
 "nbformat": 4,
 "nbformat_minor": 5
}
